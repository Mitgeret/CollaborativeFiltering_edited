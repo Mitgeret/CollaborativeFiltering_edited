{
 "cells": [
  {
   "cell_type": "code",
   "execution_count": 1,
   "metadata": {},
   "outputs": [],
   "source": [
    "# установка пакета surprise\n",
    "# pip install surprise"
   ]
  },
  {
   "cell_type": "code",
   "execution_count": 2,
   "metadata": {},
   "outputs": [],
   "source": [
    "# Загрузка библиотек необходимых для работы\n",
    "from surprise import KNNWithMeans, KNNBasic, KNNWithZScore,SVD\n",
    "from surprise import Dataset\n",
    "from surprise import accuracy\n",
    "from surprise import Reader\n",
    "from surprise.model_selection import train_test_split\n",
    "from surprise.model_selection import cross_validate\n",
    "\n",
    "import pandas as pd"
   ]
  },
  {
   "cell_type": "code",
   "execution_count": 3,
   "metadata": {},
   "outputs": [],
   "source": [
    "# Загрузка данных\n",
    "movies = pd.read_csv('/Users/irinanikulina/Documents/ML/RecommendationSystems/movies.csv')\n",
    "ratings = pd.read_csv('/Users/irinanikulina/Documents/ML/RecommendationSystems/ratings.csv')"
   ]
  },
  {
   "cell_type": "code",
   "execution_count": 4,
   "metadata": {},
   "outputs": [
    {
     "data": {
      "text/html": [
       "<div>\n",
       "<style scoped>\n",
       "    .dataframe tbody tr th:only-of-type {\n",
       "        vertical-align: middle;\n",
       "    }\n",
       "\n",
       "    .dataframe tbody tr th {\n",
       "        vertical-align: top;\n",
       "    }\n",
       "\n",
       "    .dataframe thead th {\n",
       "        text-align: right;\n",
       "    }\n",
       "</style>\n",
       "<table border=\"1\" class=\"dataframe\">\n",
       "  <thead>\n",
       "    <tr style=\"text-align: right;\">\n",
       "      <th></th>\n",
       "      <th>userId</th>\n",
       "      <th>movieId</th>\n",
       "      <th>rating</th>\n",
       "      <th>timestamp</th>\n",
       "    </tr>\n",
       "  </thead>\n",
       "  <tbody>\n",
       "    <tr>\n",
       "      <th>0</th>\n",
       "      <td>1</td>\n",
       "      <td>1</td>\n",
       "      <td>4.0</td>\n",
       "      <td>964982703</td>\n",
       "    </tr>\n",
       "    <tr>\n",
       "      <th>1</th>\n",
       "      <td>1</td>\n",
       "      <td>3</td>\n",
       "      <td>4.0</td>\n",
       "      <td>964981247</td>\n",
       "    </tr>\n",
       "    <tr>\n",
       "      <th>2</th>\n",
       "      <td>1</td>\n",
       "      <td>6</td>\n",
       "      <td>4.0</td>\n",
       "      <td>964982224</td>\n",
       "    </tr>\n",
       "    <tr>\n",
       "      <th>3</th>\n",
       "      <td>1</td>\n",
       "      <td>47</td>\n",
       "      <td>5.0</td>\n",
       "      <td>964983815</td>\n",
       "    </tr>\n",
       "    <tr>\n",
       "      <th>4</th>\n",
       "      <td>1</td>\n",
       "      <td>50</td>\n",
       "      <td>5.0</td>\n",
       "      <td>964982931</td>\n",
       "    </tr>\n",
       "  </tbody>\n",
       "</table>\n",
       "</div>"
      ],
      "text/plain": [
       "   userId  movieId  rating  timestamp\n",
       "0       1        1     4.0  964982703\n",
       "1       1        3     4.0  964981247\n",
       "2       1        6     4.0  964982224\n",
       "3       1       47     5.0  964983815\n",
       "4       1       50     5.0  964982931"
      ]
     },
     "execution_count": 4,
     "metadata": {},
     "output_type": "execute_result"
    }
   ],
   "source": [
    "ratings.head()"
   ]
  },
  {
   "cell_type": "code",
   "execution_count": 5,
   "metadata": {},
   "outputs": [
    {
     "data": {
      "text/html": [
       "<div>\n",
       "<style scoped>\n",
       "    .dataframe tbody tr th:only-of-type {\n",
       "        vertical-align: middle;\n",
       "    }\n",
       "\n",
       "    .dataframe tbody tr th {\n",
       "        vertical-align: top;\n",
       "    }\n",
       "\n",
       "    .dataframe thead th {\n",
       "        text-align: right;\n",
       "    }\n",
       "</style>\n",
       "<table border=\"1\" class=\"dataframe\">\n",
       "  <thead>\n",
       "    <tr style=\"text-align: right;\">\n",
       "      <th></th>\n",
       "      <th>movieId</th>\n",
       "      <th>title</th>\n",
       "      <th>genres</th>\n",
       "    </tr>\n",
       "  </thead>\n",
       "  <tbody>\n",
       "    <tr>\n",
       "      <th>0</th>\n",
       "      <td>1</td>\n",
       "      <td>Toy Story (1995)</td>\n",
       "      <td>Adventure|Animation|Children|Comedy|Fantasy</td>\n",
       "    </tr>\n",
       "    <tr>\n",
       "      <th>1</th>\n",
       "      <td>2</td>\n",
       "      <td>Jumanji (1995)</td>\n",
       "      <td>Adventure|Children|Fantasy</td>\n",
       "    </tr>\n",
       "    <tr>\n",
       "      <th>2</th>\n",
       "      <td>3</td>\n",
       "      <td>Grumpier Old Men (1995)</td>\n",
       "      <td>Comedy|Romance</td>\n",
       "    </tr>\n",
       "    <tr>\n",
       "      <th>3</th>\n",
       "      <td>4</td>\n",
       "      <td>Waiting to Exhale (1995)</td>\n",
       "      <td>Comedy|Drama|Romance</td>\n",
       "    </tr>\n",
       "    <tr>\n",
       "      <th>4</th>\n",
       "      <td>5</td>\n",
       "      <td>Father of the Bride Part II (1995)</td>\n",
       "      <td>Comedy</td>\n",
       "    </tr>\n",
       "  </tbody>\n",
       "</table>\n",
       "</div>"
      ],
      "text/plain": [
       "   movieId                               title  \\\n",
       "0        1                    Toy Story (1995)   \n",
       "1        2                      Jumanji (1995)   \n",
       "2        3             Grumpier Old Men (1995)   \n",
       "3        4            Waiting to Exhale (1995)   \n",
       "4        5  Father of the Bride Part II (1995)   \n",
       "\n",
       "                                        genres  \n",
       "0  Adventure|Animation|Children|Comedy|Fantasy  \n",
       "1                   Adventure|Children|Fantasy  \n",
       "2                               Comedy|Romance  \n",
       "3                         Comedy|Drama|Romance  \n",
       "4                                       Comedy  "
      ]
     },
     "execution_count": 5,
     "metadata": {},
     "output_type": "execute_result"
    }
   ],
   "source": [
    "movies.head()"
   ]
  },
  {
   "cell_type": "code",
   "execution_count": 6,
   "metadata": {},
   "outputs": [],
   "source": [
    "# Создание нового датафрейма для работы\n",
    "movies_with_ratings = movies.join(ratings.set_index('movieId'), on='movieId').reset_index(drop=True)\n",
    "movies_with_ratings.dropna(inplace=True)"
   ]
  },
  {
   "cell_type": "code",
   "execution_count": 7,
   "metadata": {},
   "outputs": [
    {
     "data": {
      "text/html": [
       "<div>\n",
       "<style scoped>\n",
       "    .dataframe tbody tr th:only-of-type {\n",
       "        vertical-align: middle;\n",
       "    }\n",
       "\n",
       "    .dataframe tbody tr th {\n",
       "        vertical-align: top;\n",
       "    }\n",
       "\n",
       "    .dataframe thead th {\n",
       "        text-align: right;\n",
       "    }\n",
       "</style>\n",
       "<table border=\"1\" class=\"dataframe\">\n",
       "  <thead>\n",
       "    <tr style=\"text-align: right;\">\n",
       "      <th></th>\n",
       "      <th>movieId</th>\n",
       "      <th>title</th>\n",
       "      <th>genres</th>\n",
       "      <th>userId</th>\n",
       "      <th>rating</th>\n",
       "      <th>timestamp</th>\n",
       "    </tr>\n",
       "  </thead>\n",
       "  <tbody>\n",
       "    <tr>\n",
       "      <th>0</th>\n",
       "      <td>1</td>\n",
       "      <td>Toy Story (1995)</td>\n",
       "      <td>Adventure|Animation|Children|Comedy|Fantasy</td>\n",
       "      <td>1.0</td>\n",
       "      <td>4.0</td>\n",
       "      <td>9.649827e+08</td>\n",
       "    </tr>\n",
       "    <tr>\n",
       "      <th>1</th>\n",
       "      <td>1</td>\n",
       "      <td>Toy Story (1995)</td>\n",
       "      <td>Adventure|Animation|Children|Comedy|Fantasy</td>\n",
       "      <td>5.0</td>\n",
       "      <td>4.0</td>\n",
       "      <td>8.474350e+08</td>\n",
       "    </tr>\n",
       "    <tr>\n",
       "      <th>2</th>\n",
       "      <td>1</td>\n",
       "      <td>Toy Story (1995)</td>\n",
       "      <td>Adventure|Animation|Children|Comedy|Fantasy</td>\n",
       "      <td>7.0</td>\n",
       "      <td>4.5</td>\n",
       "      <td>1.106636e+09</td>\n",
       "    </tr>\n",
       "    <tr>\n",
       "      <th>3</th>\n",
       "      <td>1</td>\n",
       "      <td>Toy Story (1995)</td>\n",
       "      <td>Adventure|Animation|Children|Comedy|Fantasy</td>\n",
       "      <td>15.0</td>\n",
       "      <td>2.5</td>\n",
       "      <td>1.510578e+09</td>\n",
       "    </tr>\n",
       "    <tr>\n",
       "      <th>4</th>\n",
       "      <td>1</td>\n",
       "      <td>Toy Story (1995)</td>\n",
       "      <td>Adventure|Animation|Children|Comedy|Fantasy</td>\n",
       "      <td>17.0</td>\n",
       "      <td>4.5</td>\n",
       "      <td>1.305696e+09</td>\n",
       "    </tr>\n",
       "  </tbody>\n",
       "</table>\n",
       "</div>"
      ],
      "text/plain": [
       "   movieId             title                                       genres  \\\n",
       "0        1  Toy Story (1995)  Adventure|Animation|Children|Comedy|Fantasy   \n",
       "1        1  Toy Story (1995)  Adventure|Animation|Children|Comedy|Fantasy   \n",
       "2        1  Toy Story (1995)  Adventure|Animation|Children|Comedy|Fantasy   \n",
       "3        1  Toy Story (1995)  Adventure|Animation|Children|Comedy|Fantasy   \n",
       "4        1  Toy Story (1995)  Adventure|Animation|Children|Comedy|Fantasy   \n",
       "\n",
       "   userId  rating     timestamp  \n",
       "0     1.0     4.0  9.649827e+08  \n",
       "1     5.0     4.0  8.474350e+08  \n",
       "2     7.0     4.5  1.106636e+09  \n",
       "3    15.0     2.5  1.510578e+09  \n",
       "4    17.0     4.5  1.305696e+09  "
      ]
     },
     "execution_count": 7,
     "metadata": {},
     "output_type": "execute_result"
    }
   ],
   "source": [
    "movies_with_ratings.head()"
   ]
  },
  {
   "cell_type": "code",
   "execution_count": 8,
   "metadata": {},
   "outputs": [
    {
     "data": {
      "text/plain": [
       "array(['Jumanji (1995)', 'Tom and Huck (1995)', 'Balto (1995)',\n",
       "       'Babe (1995)', 'Pocahontas (1995)',\n",
       "       'Muppet Treasure Island (1996)', 'Casper (1995)',\n",
       "       'Goofy Movie, A (1995)', 'Little Princess, A (1995)',\n",
       "       'Santa Clause, The (1994)', 'Jungle Book, The (1994)',\n",
       "       'Lion King, The (1994)', 'Secret Garden, The (1993)',\n",
       "       'Nightmare Before Christmas, The (1993)', 'Home Alone (1990)',\n",
       "       'Aladdin (1992)', 'Snow White and the Seven Dwarfs (1937)',\n",
       "       'Beauty and the Beast (1991)', 'Pinocchio (1940)',\n",
       "       'James and the Giant Peach (1996)', 'Oliver & Company (1988)',\n",
       "       'Wallace & Gromit: The Best of Aardman Animation (1996)',\n",
       "       'Hunchback of Notre Dame, The (1996)', 'Harriet the Spy (1996)',\n",
       "       'Matilda (1996)', \"Singin' in the Rain (1952)\",\n",
       "       'My Fair Lady (1964)', 'Wizard of Oz, The (1939)',\n",
       "       'Fly Away Home (1996)', 'Love Bug, The (1969)',\n",
       "       'Old Yeller (1957)', 'Parent Trap, The (1961)',\n",
       "       'Homeward Bound: The Incredible Journey (1993)',\n",
       "       'That Darn Cat! (1965)', 'Angels in the Outfield (1994)',\n",
       "       'Cinderella (1950)', 'Sword in the Stone, The (1963)',\n",
       "       'Mary Poppins (1964)', 'Dumbo (1941)', \"Pete's Dragon (1977)\",\n",
       "       'Bedknobs and Broomsticks (1971)', 'Alice in Wonderland (1951)',\n",
       "       'Sound of Music, The (1965)',\n",
       "       'Willy Wonka & the Chocolate Factory (1971)',\n",
       "       'Dirty Dancing (1987)', 'E.T. the Extra-Terrestrial (1982)',\n",
       "       'Wallace & Gromit: The Wrong Trousers (1993)', 'Fantasia (1940)',\n",
       "       'Birds, The (1963)', '101 Dalmatians (1996)', 'Grease (1978)',\n",
       "       \"Cats Don't Dance (1997)\", 'Shiloh (1997)', 'Hercules (1997)',\n",
       "       'Anastasia (1997)', 'Tomorrow Never Dies (1997)',\n",
       "       'Borrowers, The (1997)', 'Deep Impact (1998)', 'Mulan (1998)',\n",
       "       'Madeline (1998)', 'West Side Story (1961)', 'Goonies, The (1985)',\n",
       "       'Mask of Zorro, The (1998)', 'Bambi (1942)',\n",
       "       'Black Cauldron, The (1985)', 'Great Mouse Detective, The (1986)',\n",
       "       'Honey, I Shrunk the Kids (1989)', 'Parent Trap, The (1998)',\n",
       "       'Jungle Book, The (1967)', 'Lady and the Tramp (1955)',\n",
       "       'Little Mermaid, The (1989)', 'Muppet Christmas Carol, The (1992)',\n",
       "       '101 Dalmatians (One Hundred and One Dalmatians) (1961)',\n",
       "       'Peter Pan (1953)', 'Rescuers Down Under, The (1990)',\n",
       "       'Rescuers, The (1977)', 'Return of Jafar, The (1994)',\n",
       "       'Sleeping Beauty (1959)', 'Splash (1984)',\n",
       "       'Lord of the Rings, The (1978)', 'Doctor Dolittle (1967)',\n",
       "       \"Charlotte's Web (1973)\", 'Dark Crystal, The (1982)',\n",
       "       'American Tail, An (1986)', 'NeverEnding Story, The (1984)',\n",
       "       'Blade (1998)', 'Antz (1998)', 'Producers, The (1968)',\n",
       "       \"Bug's Life, A (1998)\", 'Prince of Egypt, The (1998)',\n",
       "       'Mighty Joe Young (1949)', 'King and I, The (1956)',\n",
       "       'Mummy, The (1999)', 'Rocky Horror Picture Show, The (1975)',\n",
       "       'Tarzan (1999)', 'South Park: Bigger, Longer and Uncut (1999)',\n",
       "       'Wild Wild West (1999)', 'Muppets From Space (1999)',\n",
       "       'Little Shop of Horrors (1986)', 'Iron Giant, The (1999)',\n",
       "       'Bowfinger (1999)', 'Christmas Story, A (1983)',\n",
       "       'Yellow Submarine (1968)', 'South Pacific (1958)',\n",
       "       'Who Framed Roger Rabbit? (1988)', 'Robin Hood (1973)',\n",
       "       'Toy Story 2 (1999)', 'Stuart Little (1999)',\n",
       "       'Fantasia 2000 (1999)', 'My Dog Skip (1999)', 'Pitch Black (2000)',\n",
       "       'Whole Nine Yards, The (2000)', 'Muppet Movie, The (1979)',\n",
       "       'Great Muppet Caper, The (1981)',\n",
       "       'Muppets Take Manhattan, The (1984)', 'Erin Brockovich (2000)',\n",
       "       'Soft Fruit (1999)', 'Teenage Mutant Ninja Turtles (1990)',\n",
       "       'Road to El Dorado, The (2000)', 'Frequency (2000)',\n",
       "       'Return to Me (2000)', 'American Psycho (2000)',\n",
       "       'Keeping the Faith (2000)', 'Guys and Dolls (1955)',\n",
       "       'U-571 (2000)', 'Where the Heart Is (2000)', 'Gladiator (2000)',\n",
       "       'Dinosaur (2000)', 'Mission: Impossible II (2000)',\n",
       "       'Shanghai Noon (2000)', 'Shaft (2000)', 'Chicken Run (2000)',\n",
       "       'Patriot, The (2000)', 'Perfect Storm, The (2000)',\n",
       "       'Kid, The (2000)', 'X-Men (2000)', 'Tao of Steve, The (2000)',\n",
       "       'Bring It On (2000)', 'Almost Famous (2000)',\n",
       "       'Meet the Parents (2000)', 'Billy Elliot (2000)',\n",
       "       'Legend of Drunken Master, The (Jui kuen II) (1994)',\n",
       "       \"Charlie's Angels (2000)\", '6th Day, The (2000)',\n",
       "       'How the Grinch Stole Christmas (a.k.a. The Grinch) (2000)',\n",
       "       'Rugrats in Paris: The Movie (2000)', 'Unbreakable (2000)',\n",
       "       'Crouching Tiger, Hidden Dragon (Wo hu cang long) (2000)',\n",
       "       'Vertical Limit (2000)', 'Chocolat (2000)',\n",
       "       \"Emperor's New Groove, The (2000)\", 'Finding Forrester (2000)',\n",
       "       'Cast Away (2000)', 'Miss Congeniality (2000)',\n",
       "       'O Brother, Where Art Thou? (2000)', 'State and Main (2000)',\n",
       "       'Annie (1982)', 'Save the Last Dance (2001)',\n",
       "       'Brave Little Toaster, The (1987)', \"Recess: School's Out (2001)\",\n",
       "       'Mexican, The (2001)', 'Memento (2000)', 'Spy Kids (2001)',\n",
       "       \"Bridget Jones's Diary (2001)\", 'Mummy Returns, The (2001)',\n",
       "       \"Knight's Tale, A (2001)\", 'Shrek (2001)', 'Moulin Rouge (2001)',\n",
       "       'Pearl Harbor (2001)', 'Swordfish (2001)',\n",
       "       'Atlantis: The Lost Empire (2001)',\n",
       "       'Lara Croft: Tomb Raider (2001)',\n",
       "       'Fast and the Furious, The (2001)',\n",
       "       'A.I. Artificial Intelligence (2001)', 'Sexy Beast (2000)',\n",
       "       'Final Fantasy: The Spirits Within (2001)',\n",
       "       'Legally Blonde (2001)', 'Adanggaman (2000)',\n",
       "       'Land Before Time, The (1988)', 'Jurassic Park III (2001)',\n",
       "       'Ghost World (2001)', 'Planet of the Apes (2001)',\n",
       "       'Princess Diaries, The (2001)', 'American Pie 2 (2001)',\n",
       "       'Others, The (2001)', 'Jay and Silent Bob Strike Back (2001)',\n",
       "       'Training Day (2001)',\n",
       "       \"Endurance: Shackleton's Legendary Antarctic Expedition, The (2000)\",\n",
       "       'Zoolander (2001)', 'Joy Ride (2001)',\n",
       "       'Iron Monkey (Siu nin Wong Fei-hung ji: Tit Ma Lau) (1993)',\n",
       "       'Mulholland Drive (2001)', 'From Hell (2001)',\n",
       "       'Monsters, Inc. (2001)',\n",
       "       \"Harry Potter and the Sorcerer's Stone (a.k.a. Harry Potter and the Philosopher's Stone) (2001)\",\n",
       "       'Spy Game (2001)', 'Royal Tenenbaums, The (2001)',\n",
       "       'Jimmy Neutron: Boy Genius (2001)',\n",
       "       'Lord of the Rings: The Fellowship of the Ring, The (2001)',\n",
       "       'Beautiful Mind, A (2001)', 'Gosford Park (2001)',\n",
       "       'I Am Sam (2001)', \"Monster's Ball (2001)\", 'Sandlot, The (1993)',\n",
       "       'Super Troopers (2001)', 'Time Machine, The (2002)',\n",
       "       'Ice Age (2002)', 'Blade II (2002)', 'Changing Lanes (2002)',\n",
       "       'My Big Fat Greek Wedding (2002)', 'The Scorpion King (2002)',\n",
       "       'Spider-Man (2002)', 'Unfaithful (2002)',\n",
       "       'Star Wars: Episode II - Attack of the Clones (2002)',\n",
       "       'Insomnia (2002)', 'Bourne Identity, The (2002)',\n",
       "       'Scooby-Doo (2002)', 'Minority Report (2002)',\n",
       "       'Reign of Fire (2002)', 'Austin Powers in Goldmember (2002)',\n",
       "       'Signs (2002)', 'Spy Kids 2: The Island of Lost Dreams (2002)',\n",
       "       'xXx (2002)',\n",
       "       'Spirited Away (Sen to Chihiro no kamikakushi) (2001)',\n",
       "       'Red Dragon (2002)', 'Ring, The (2002)',\n",
       "       'Saturday Night Fever (1977)', 'Jackass: The Movie (2002)',\n",
       "       'Harry Potter and the Chamber of Secrets (2002)',\n",
       "       'Lord of the Rings: The Two Towers, The (2002)',\n",
       "       'Catch Me If You Can (2002)', 'Chicago (2002)',\n",
       "       'Trail of the Pink Panther (1982)', 'Shanghai Knights (2003)',\n",
       "       'Daredevil (2003)', 'Dennis the Menace (1993)',\n",
       "       'Black Stallion, The (1979)', 'Holes (2003)',\n",
       "       'X2: X-Men United (2003)', 'Chorus Line, A (1985)',\n",
       "       'Kiss Me Kate (1953)', 'Matrix Reloaded, The (2003)'], dtype=object)"
      ]
     },
     "execution_count": 8,
     "metadata": {},
     "output_type": "execute_result"
    }
   ],
   "source": [
    "movies_with_ratings[movies_with_ratings.userId == 20.0].title.unique()"
   ]
  },
  {
   "cell_type": "code",
   "execution_count": 9,
   "metadata": {},
   "outputs": [],
   "source": [
    "dataset = pd.DataFrame({\n",
    "    'uid': movies_with_ratings.userId,\n",
    "    'iid': movies_with_ratings.title,\n",
    "    'rating': movies_with_ratings.rating\n",
    "})"
   ]
  },
  {
   "cell_type": "code",
   "execution_count": 10,
   "metadata": {},
   "outputs": [
    {
     "data": {
      "text/html": [
       "<div>\n",
       "<style scoped>\n",
       "    .dataframe tbody tr th:only-of-type {\n",
       "        vertical-align: middle;\n",
       "    }\n",
       "\n",
       "    .dataframe tbody tr th {\n",
       "        vertical-align: top;\n",
       "    }\n",
       "\n",
       "    .dataframe thead th {\n",
       "        text-align: right;\n",
       "    }\n",
       "</style>\n",
       "<table border=\"1\" class=\"dataframe\">\n",
       "  <thead>\n",
       "    <tr style=\"text-align: right;\">\n",
       "      <th></th>\n",
       "      <th>uid</th>\n",
       "      <th>iid</th>\n",
       "      <th>rating</th>\n",
       "    </tr>\n",
       "  </thead>\n",
       "  <tbody>\n",
       "    <tr>\n",
       "      <th>0</th>\n",
       "      <td>1.0</td>\n",
       "      <td>Toy Story (1995)</td>\n",
       "      <td>4.0</td>\n",
       "    </tr>\n",
       "    <tr>\n",
       "      <th>1</th>\n",
       "      <td>5.0</td>\n",
       "      <td>Toy Story (1995)</td>\n",
       "      <td>4.0</td>\n",
       "    </tr>\n",
       "    <tr>\n",
       "      <th>2</th>\n",
       "      <td>7.0</td>\n",
       "      <td>Toy Story (1995)</td>\n",
       "      <td>4.5</td>\n",
       "    </tr>\n",
       "    <tr>\n",
       "      <th>3</th>\n",
       "      <td>15.0</td>\n",
       "      <td>Toy Story (1995)</td>\n",
       "      <td>2.5</td>\n",
       "    </tr>\n",
       "    <tr>\n",
       "      <th>4</th>\n",
       "      <td>17.0</td>\n",
       "      <td>Toy Story (1995)</td>\n",
       "      <td>4.5</td>\n",
       "    </tr>\n",
       "  </tbody>\n",
       "</table>\n",
       "</div>"
      ],
      "text/plain": [
       "    uid               iid  rating\n",
       "0   1.0  Toy Story (1995)     4.0\n",
       "1   5.0  Toy Story (1995)     4.0\n",
       "2   7.0  Toy Story (1995)     4.5\n",
       "3  15.0  Toy Story (1995)     2.5\n",
       "4  17.0  Toy Story (1995)     4.5"
      ]
     },
     "execution_count": 10,
     "metadata": {},
     "output_type": "execute_result"
    }
   ],
   "source": [
    "dataset.head()"
   ]
  },
  {
   "cell_type": "code",
   "execution_count": 11,
   "metadata": {},
   "outputs": [
    {
     "data": {
      "text/plain": [
       "0.5"
      ]
     },
     "execution_count": 11,
     "metadata": {},
     "output_type": "execute_result"
    }
   ],
   "source": [
    "# Определение граничных значений рейтинга\n",
    "dataset.rating.min()"
   ]
  },
  {
   "cell_type": "code",
   "execution_count": 12,
   "metadata": {},
   "outputs": [
    {
     "data": {
      "text/plain": [
       "5.0"
      ]
     },
     "execution_count": 12,
     "metadata": {},
     "output_type": "execute_result"
    }
   ],
   "source": [
    "ratings.rating.max()"
   ]
  },
  {
   "cell_type": "code",
   "execution_count": 13,
   "metadata": {},
   "outputs": [],
   "source": [
    "reader = Reader(rating_scale=(0.5, 5.0))\n",
    "data = Dataset.load_from_df(dataset, reader)"
   ]
  },
  {
   "cell_type": "code",
   "execution_count": 14,
   "metadata": {},
   "outputs": [],
   "source": [
    "# Разбиение данных на тренировочную и тестовую выборки\n",
    "trainset, testset = train_test_split(data, test_size=.1)"
   ]
  },
  {
   "cell_type": "code",
   "execution_count": 15,
   "metadata": {},
   "outputs": [
    {
     "data": {
      "text/plain": [
       "<surprise.prediction_algorithms.matrix_factorization.SVD at 0x7fa5d83945b0>"
      ]
     },
     "execution_count": 15,
     "metadata": {},
     "output_type": "execute_result"
    }
   ],
   "source": [
    "# Использование алгоритма KNNWithMeans\n",
    "# algo = KNNWithMeans(k=50, sim_options={'name': 'pearson_baseline', 'user_based': True})\n",
    "algo = SVD(n_factors=46, n_epochs = 20)\n",
    "algo.fit(trainset)"
   ]
  },
  {
   "cell_type": "code",
   "execution_count": 16,
   "metadata": {},
   "outputs": [],
   "source": [
    "test_pred = algo.test(testset)"
   ]
  },
  {
   "cell_type": "code",
   "execution_count": 17,
   "metadata": {},
   "outputs": [
    {
     "name": "stdout",
     "output_type": "stream",
     "text": [
      "Evaluating RMSE, MAE of algorithm SVD on 5 split(s).\n",
      "\n",
      "                  Fold 1  Fold 2  Fold 3  Fold 4  Fold 5  Mean    Std     \n",
      "RMSE (testset)    0.8691  0.8700  0.8731  0.8688  0.8681  0.8698  0.0018  \n",
      "MAE (testset)     0.6675  0.6714  0.6672  0.6677  0.6670  0.6681  0.0016  \n",
      "Fit time          2.56    2.43    2.46    2.46    2.45    2.47    0.05    \n",
      "Test time         0.07    0.07    0.07    0.07    0.11    0.08    0.02    \n"
     ]
    }
   ],
   "source": [
    "# Кросс-валидация на 5 фолдах с определением RMSE, MAE\n",
    "scores = cross_validate(algo, data, measures=['RMSE', 'MAE'], cv=5, verbose=True)"
   ]
  },
  {
   "cell_type": "code",
   "execution_count": 18,
   "metadata": {},
   "outputs": [
    {
     "name": "stdout",
     "output_type": "stream",
     "text": [
      "RMSE: 0.8691\n"
     ]
    },
    {
     "data": {
      "text/plain": [
       "0.8690815834209011"
      ]
     },
     "execution_count": 18,
     "metadata": {},
     "output_type": "execute_result"
    }
   ],
   "source": [
    "# Определение точности работы алгоритма только по тестовой выборке\n",
    "accuracy.rmse(test_pred, verbose=True)"
   ]
  },
  {
   "cell_type": "code",
   "execution_count": 19,
   "metadata": {},
   "outputs": [
    {
     "data": {
      "text/plain": [
       "Prediction(uid=20, iid='Shawshank Redemption, The (1994)', r_ui=None, est=4.741059898273398, details={'was_impossible': False})"
      ]
     },
     "execution_count": 19,
     "metadata": {},
     "output_type": "execute_result"
    }
   ],
   "source": [
    "algo.predict(uid=20, iid='Shawshank Redemption, The (1994)')"
   ]
  },
  {
   "cell_type": "code",
   "execution_count": 20,
   "metadata": {},
   "outputs": [
    {
     "data": {
      "text/plain": [
       "<surprise.prediction_algorithms.matrix_factorization.SVD at 0x7fa6093c13a0>"
      ]
     },
     "execution_count": 20,
     "metadata": {},
     "output_type": "execute_result"
    }
   ],
   "source": [
    "# algo = KNNWithMeans(k=50, sim_options={'name': 'pearson_baseline', 'user_based': False})\n",
    "algo = SVD(n_factors=46, n_epochs = 20)\n",
    "algo.fit(trainset)"
   ]
  },
  {
   "cell_type": "code",
   "execution_count": 21,
   "metadata": {},
   "outputs": [],
   "source": [
    "test_pred = algo.test(testset)"
   ]
  },
  {
   "cell_type": "code",
   "execution_count": 22,
   "metadata": {},
   "outputs": [
    {
     "name": "stdout",
     "output_type": "stream",
     "text": [
      "Evaluating RMSE, MAE of algorithm SVD on 5 split(s).\n",
      "\n",
      "                  Fold 1  Fold 2  Fold 3  Fold 4  Fold 5  Mean    Std     \n",
      "RMSE (testset)    0.8796  0.8688  0.8729  0.8627  0.8758  0.8720  0.0058  \n",
      "MAE (testset)     0.6743  0.6667  0.6678  0.6663  0.6706  0.6692  0.0030  \n",
      "Fit time          2.53    2.54    2.62    2.58    2.54    2.56    0.04    \n",
      "Test time         0.07    0.13    0.13    0.07    0.07    0.09    0.03    \n"
     ]
    }
   ],
   "source": [
    "scores = cross_validate(algo, data, measures=['RMSE', 'MAE'], cv=5, verbose=True)"
   ]
  },
  {
   "cell_type": "code",
   "execution_count": 23,
   "metadata": {},
   "outputs": [
    {
     "name": "stdout",
     "output_type": "stream",
     "text": [
      "RMSE: 0.8695\n"
     ]
    },
    {
     "data": {
      "text/plain": [
       "0.8694781942746264"
      ]
     },
     "execution_count": 23,
     "metadata": {},
     "output_type": "execute_result"
    }
   ],
   "source": [
    "accuracy.rmse(test_pred, verbose=True)"
   ]
  },
  {
   "cell_type": "code",
   "execution_count": 24,
   "metadata": {},
   "outputs": [
    {
     "data": {
      "text/plain": [
       "Prediction(uid=20, iid='Shawshank Redemption, The (1994)', r_ui=None, est=4.705022213028888, details={'was_impossible': False})"
      ]
     },
     "execution_count": 24,
     "metadata": {},
     "output_type": "execute_result"
    }
   ],
   "source": [
    "new_pred = algo.predict(uid=20, iid='Shawshank Redemption, The (1994)')\n",
    "new_pred"
   ]
  }
 ],
 "metadata": {
  "kernelspec": {
   "display_name": "Python 3",
   "language": "python",
   "name": "python3"
  },
  "language_info": {
   "codemirror_mode": {
    "name": "ipython",
    "version": 3
   },
   "file_extension": ".py",
   "mimetype": "text/x-python",
   "name": "python",
   "nbconvert_exporter": "python",
   "pygments_lexer": "ipython3",
   "version": "3.8.5"
  }
 },
 "nbformat": 4,
 "nbformat_minor": 4
}
